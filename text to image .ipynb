{
  "nbformat": 4,
  "nbformat_minor": 0,
  "metadata": {
    "colab": {
      "private_outputs": true,
      "provenance": [],
      "authorship_tag": "ABX9TyPCmZe1CZpDK53hCul8K10B",
      "include_colab_link": true
    },
    "kernelspec": {
      "name": "python3",
      "display_name": "Python 3"
    },
    "language_info": {
      "name": "python"
    }
  },
  "cells": [
    {
      "cell_type": "markdown",
      "metadata": {
        "id": "view-in-github",
        "colab_type": "text"
      },
      "source": [
        "<a href=\"https://colab.research.google.com/github/batool-sajdi/project_for_practice/blob/main/text%20to%20image%20.ipynb\" target=\"_parent\"><img src=\"https://colab.research.google.com/assets/colab-badge.svg\" alt=\"Open In Colab\"/></a>"
      ]
    },
    {
      "cell_type": "code",
      "execution_count": null,
      "metadata": {
        "collapsed": true,
        "id": "FcBEffXrYTC2"
      },
      "outputs": [],
      "source": [
        "pip install transformers nltk\n"
      ]
    },
    {
      "cell_type": "code",
      "source": [
        "import nltk\n",
        "from transformers import pipeline\n"
      ],
      "metadata": {
        "id": "T3S5MnAVYoP3"
      },
      "execution_count": null,
      "outputs": []
    },
    {
      "cell_type": "code",
      "source": [
        "nltk.download('punkt')\n",
        "nltk.download('stopwords')\n"
      ],
      "metadata": {
        "id": "MoZu3-bYZAaD"
      },
      "execution_count": null,
      "outputs": []
    },
    {
      "cell_type": "code",
      "source": [
        "summarizer = pipeline(\"summarization\", model=\"facebook/bart-large-cnn\")\n"
      ],
      "metadata": {
        "collapsed": true,
        "id": "jLNGJaTIZVWj"
      },
      "execution_count": null,
      "outputs": []
    },
    {
      "cell_type": "code",
      "source": [
        "def summarize_text(text):\n",
        "    summary = summarizer(text, max_length=150, min_length=50, do_sample=False)\n",
        "    return summary[0]['summary_text']\n"
      ],
      "metadata": {
        "id": "wlNsY-WfZm3i"
      },
      "execution_count": null,
      "outputs": []
    },
    {
      "cell_type": "code",
      "source": [
        "text = \"\"\"\n",
        "Artificial intelligence (AI) refers to the simulation of human intelligence in machines that are programmed to think like humans and mimic their actions. The term may also be applied to any machine that exhibits traits associated with a human mind such as \"learning\" and \"problem-solving\". As machines become increasingly capable, tasks considered to require \"intelligence\" are often included in the scope of AI, leading to the creation of self-driving cars, speech recognition, and more.\n",
        "\"\"\"\n",
        "\n",
        "print(summarize_text(text))\n"
      ],
      "metadata": {
        "id": "YqU2IQFvZxW_"
      },
      "execution_count": null,
      "outputs": []
    },
    {
      "cell_type": "code",
      "source": [
        "from nltk.corpus import stopwords\n",
        "from nltk.tokenize import word_tokenize\n",
        "\n",
        "stop_words = set(stopwords.words(\"english\"))\n",
        "\n",
        "def preprocess_text(text):\n",
        "    word_tokens = word_tokenize(text)\n",
        "    filtered_text = [word for word in word_tokens if word.lower() not in stop_words]\n",
        "    return ' '.join(filtered_text)\n"
      ],
      "metadata": {
        "id": "NIhrsRJ1aCy-"
      },
      "execution_count": null,
      "outputs": []
    },
    {
      "cell_type": "code",
      "source": [
        "# prompt: Install Tkinter: Tkinter comes pre-installed with Python,\n",
        "\n",
        "import nltk\n",
        "from transformers import pipeline\n",
        "from nltk.corpus import stopwords\n",
        "from nltk.tokenize import word_tokenize\n",
        "\n",
        "# nltk.download('punkt') # This and the next line are unnecessary if you already downloaded the resources\n",
        "# nltk.download('stopwords')\n",
        "\n",
        "summarizer = pipeline(\"summarization\", model=\"facebook/bart-large-cnn\")\n",
        "\n",
        "def summarize_text(text):\n",
        "    summary = summarizer(text, max_length=150, min_length=50, do_sample=False)\n",
        "    return summary[0]['summary_text']\n",
        "\n",
        "text = \"\"\"\n",
        "Artificial intelligence (AI) refers to the simulation of human intelligence in machines that are programmed to think like humans and mimic their actions. The term may also be applied to any machine that exhibits traits associated with a human mind such as \"learning\" and \"problem-solving\". As machines become increasingly capable, tasks considered to require \"intelligence\" are often included in the scope of AI, leading to the creation of self-driving cars, speech recognition, and more.\n",
        "\"\"\"\n",
        "\n",
        "print(summarize_text(text))\n",
        "\n",
        "\n",
        "stop_words = set(stopwords.words(\"english\"))\n",
        "\n",
        "def preprocess_text(text):\n",
        "    word_tokens = word_tokenize(text)\n",
        "    filtered_text = [word for word in word_tokens if word.lower() not in stop_words]\n",
        "    return ' '.join(filtered_text)"
      ],
      "metadata": {
        "id": "RlWyYbU-bLGR"
      },
      "execution_count": null,
      "outputs": []
    },
    {
      "cell_type": "code",
      "source": [
        " ! pip install ipywidgets\n"
      ],
      "metadata": {
        "collapsed": true,
        "id": "uwq3FVKHb1bJ"
      },
      "execution_count": null,
      "outputs": []
    },
    {
      "cell_type": "code",
      "source": [
        "import ipywidgets as widgets\n",
        "from transformers import pipeline\n",
        "\n",
        "# Load the summarizer model\n",
        "summarizer = pipeline(\"summarization\", model=\"facebook/bart-large-cnn\")\n",
        "\n",
        "# Function to summarize text\n",
        "def summarize_text(change):\n",
        "    text = text_input.value\n",
        "    summary = summarizer(text, max_length=150, min_length=50, do_sample=False)\n",
        "    summary_output.value = summary[0]['summary_text']\n",
        "\n",
        "# Create the widgets\n",
        "text_input = widgets.Textarea(\n",
        "    value='',\n",
        "    placeholder='Enter text to summarize...',\n",
        "    description='Text:',\n",
        "    disabled=False\n",
        ")\n",
        "\n",
        "summary_output = widgets.Textarea(\n",
        "    value='',\n",
        "    placeholder='Summary will appear here...',\n",
        "    description='Summary:',\n",
        "    disabled=True\n",
        ")\n",
        "\n",
        "# Create a button\n",
        "summarize_button = widgets.Button(description=\"Summarize\")\n",
        "summarize_button.on_click(summarize_text)\n",
        "\n",
        "# Display the widgets\n",
        "display(text_input, summarize_button, summary_output)\n"
      ],
      "metadata": {
        "id": "6inbAA9ib_tH"
      },
      "execution_count": null,
      "outputs": []
    },
    {
      "cell_type": "code",
      "source": [
        "def summarize_multiple_texts():\n",
        "    input_texts = text_input.get(\"1.0\", tk.END).split(\"\\n\\n\")  # Split input into multiple texts (separated by blank lines)\n",
        "    summaries = \"\"\n",
        "    for text in input_texts:\n",
        "        summary = summarizer(text, max_length=150, min_length=50, do_sample=False)\n",
        "        summaries += f\"Summary:\\n{summary[0]['summary_text']}\\n\\n\"\n",
        "    summary_text.config(state=tk.NORMAL)  # Enable editing in the output box\n",
        "    summary_text.delete(1.0, tk.END)  # Clear previous summaries\n",
        "    summary_text.insert(tk.END, summaries)  # Insert new summaries\n",
        "    summary_text.config(state=tk.DISABLED)  # Disable editing in the output box\n"
      ],
      "metadata": {
        "id": "pS6Va8ZLcgBG"
      },
      "execution_count": null,
      "outputs": []
    },
    {
      "cell_type": "code",
      "source": [
        "!pip install streamlit\n",
        "import streamlit as st\n",
        "\n",
        "def summarize_multiple_texts(text):\n",
        "    input_texts = text.split(\"\\n\\n\")  # Split input into multiple texts\n",
        "    summaries = \"\"\n",
        "    for text in input_texts:\n",
        "        summary = summarize_text(text)\n",
        "        summaries += f\"Summary:\\n{summary}\\n\\n\"\n",
        "    return summaries\n",
        "\n",
        "# Streamlit interface for multiple articles\n",
        "input_text = st.text_area(\"Enter the Articles to Summarize (Separate by blank lines):\")\n",
        "\n",
        "if st.button(\"Summarize Multiple\"):\n",
        "    if input_text:\n",
        "        multiple_summaries = summarize_multiple_texts(input_text)\n",
        "        st.subheader(\"Summaries:\")\n",
        "        st.write(multiple_summaries)\n",
        "    else:\n",
        "        st.warning(\"Please enter some articles to summarize!\")"
      ],
      "metadata": {
        "collapsed": true,
        "id": "0wWUE-e3ckvn"
      },
      "execution_count": null,
      "outputs": []
    },
    {
      "cell_type": "code",
      "source": [
        "!pip install streamlit\n"
      ],
      "metadata": {
        "collapsed": true,
        "id": "34rk6wqudWnZ"
      },
      "execution_count": null,
      "outputs": []
    },
    {
      "cell_type": "code",
      "source": [
        "# Save the Streamlit script to a file\n",
        "with open('app.py', 'w') as f:\n",
        "    f.write(\"\"\"\n",
        "\"\"\")"
      ],
      "metadata": {
        "id": "Z5DMVmBCdbez"
      },
      "execution_count": null,
      "outputs": []
    },
    {
      "cell_type": "code",
      "source": [
        "import streamlit as st\n",
        "from transformers import pipeline"
      ],
      "metadata": {
        "id": "z9Nii0w9dj2G"
      },
      "execution_count": null,
      "outputs": []
    },
    {
      "cell_type": "code",
      "source": [
        "def summarize_text(text):\n",
        "    summary = summarizer(text, max_length=150, min_length=50, do_sample=False)\n",
        "    return summary[0]['summary_text']"
      ],
      "metadata": {
        "id": "4lvIMaEudtqw"
      },
      "execution_count": null,
      "outputs": []
    },
    {
      "cell_type": "code",
      "source": [
        "st.title(\"Text Summarizer\")"
      ],
      "metadata": {
        "id": "5Q8fN8Vod1by"
      },
      "execution_count": null,
      "outputs": []
    },
    {
      "cell_type": "code",
      "source": [
        "input_text = st.text_area(\"Enter the Text to Summarize:\")\n",
        "\n",
        "if st.button(\"Summarize\"):\n",
        "    if input_text:\n",
        "        summary = summarize_text(input_text)\n",
        "        st.subheader(\"Summary:\")\n",
        "        st.write(summary)\n",
        "    else:\n",
        "        st.warning(\"Please enter text to summarize!\")\n"
      ],
      "metadata": {
        "id": "wvXz7CvWd7TA"
      },
      "execution_count": null,
      "outputs": []
    }
  ]
}