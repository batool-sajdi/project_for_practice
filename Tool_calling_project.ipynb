{
  "nbformat": 4,
  "nbformat_minor": 0,
  "metadata": {
    "colab": {
      "private_outputs": true,
      "provenance": [],
      "authorship_tag": "ABX9TyOWcYuXvAwzfIaraa9mPQzT",
      "include_colab_link": true
    },
    "kernelspec": {
      "name": "python3",
      "display_name": "Python 3"
    },
    "language_info": {
      "name": "python"
    }
  },
  "cells": [
    {
      "cell_type": "markdown",
      "metadata": {
        "id": "view-in-github",
        "colab_type": "text"
      },
      "source": [
        "<a href=\"https://colab.research.google.com/github/batool-sajdi/project_for_prects/blob/main/Tool_calling_project.ipynb\" target=\"_parent\"><img src=\"https://colab.research.google.com/assets/colab-badge.svg\" alt=\"Open In Colab\"/></a>"
      ]
    },
    {
      "cell_type": "code",
      "execution_count": null,
      "metadata": {
        "id": "WfzKCPpYRofB"
      },
      "outputs": [],
      "source": [
        "!pip install -qU langchain langchain_community langchain_google_genai"
      ]
    },
    {
      "cell_type": "code",
      "source": [
        "from google.colab import userdata\n",
        "import os\n",
        "\n",
        "os.environ['GOOGLE_API_KEY'] = userdata.get('GOOGLE_API_KEY')"
      ],
      "metadata": {
        "id": "YWG0_kJTSb3M"
      },
      "execution_count": null,
      "outputs": []
    },
    {
      "cell_type": "code",
      "source": [
        "from langchain_google_genai import ChatGoogleGenerativeAI\n",
        "\n",
        "llm=ChatGoogleGenerativeAI(model='gemini-1.5-flash',verbose=True)\n",
        "\n",
        "llm.invoke(\"hey\")"
      ],
      "metadata": {
        "id": "P0TKd92pamE3"
      },
      "execution_count": null,
      "outputs": []
    },
    {
      "cell_type": "code",
      "source": [
        "from langchain_core.tools import tool\n",
        "\n",
        "@tool\n",
        "\n",
        "\n",
        "def calculator(operation, *args):\n",
        "    \"\"\"\n",
        "    Perform various arithmetic and advanced mathematical operations.\n",
        "\n",
        "    Args:\n",
        "        operation (str): The operation to perform. Supported operations include:\n",
        "            - 'add': Addition\n",
        "            - 'subtract': Subtraction\n",
        "            - 'multiply': Multiplication\n",
        "            - 'divide': Division\n",
        "            - 'modulus': Modulus\n",
        "            - 'exponentiate': Exponentiation\n",
        "            - 'log': Logarithm (base 10 by default, specify base as second argument)\n",
        "            - 'sin': Sine (in radians)\n",
        "            - 'cos': Cosine (in radians)\n",
        "            - 'tan': Tangent (in radians)\n",
        "        *args: Variable length argument list for the numbers to operate on.\n",
        "\n",
        "    Returns:\n",
        "        float or str: The result of the operation, or an error message for invalid operations.\n",
        "\n",
        "    Raises:\n",
        "        ValueError: If the operation is not supported or invalid arguments are provided.\n",
        "    \"\"\"\n",
        "    try:\n",
        "        if operation == 'add':\n",
        "            return sum(args)\n",
        "        elif operation == 'subtract':\n",
        "            return args[0] - sum(args[1:])\n",
        "        elif operation == 'multiply':\n",
        "            result = 1\n",
        "            for num in args:\n",
        "                result *= num\n",
        "            return result\n",
        "        elif operation == 'divide':\n",
        "            result = args[0]\n",
        "            for num in args[1:]:\n",
        "                if num == 0:\n",
        "                    return \"Error: Division by zero\"\n",
        "                result /= num\n",
        "            return result\n",
        "        elif operation == 'modulus':\n",
        "            return args[0] % args[1]\n",
        "        elif operation == 'exponentiate':\n",
        "            return args[0] ** args[1]\n",
        "        elif operation == 'log':\n",
        "            base = args[1] if len(args) > 1 else 10\n",
        "            return math.log(args[0], base)\n",
        "        elif operation == 'sin':\n",
        "            return math.sin(args[0])\n",
        "        elif operation == 'cos':\n",
        "            return math.cos(args[0])\n",
        "        elif operation == 'tan':\n",
        "            return math.tan(args[0])\n",
        "        else:\n",
        "            raise ValueError(\"Unsupported operation\")\n",
        "    except (IndexError, TypeError) as e:\n",
        "        return f\"Error: {str(e)}\"\n",
        "\n",
        "        from langchain_core.tools import tool\n",
        "\n",
        "@tool\n",
        "def multiply(a: int, b: int) -> int:\n",
        "    \"\"\"Multiply a and b.\n",
        "\n",
        "    Args:\n",
        "        a: first int\n",
        "        b: second int\n",
        "    \"\"\"\n",
        "    return a * b\n",
        "\n",
        "llm_with_tools = llm.bind_tools([multiply])\n",
        "\n"
      ],
      "metadata": {
        "id": "VMhE3FdUTMnG"
      },
      "execution_count": null,
      "outputs": []
    },
    {
      "cell_type": "code",
      "source": [
        "# Define the tools list\n",
        "tools_list = [calculator,multiply ]\n",
        "\n",
        "model_with_tools = llm.bind_tools(tools_list)"
      ],
      "metadata": {
        "id": "6ivwgN2Cb3c5"
      },
      "execution_count": null,
      "outputs": []
    },
    {
      "cell_type": "code",
      "source": [
        "result = llm_with_tools.invoke(\"Hey how are you!\")\n",
        "result\n"
      ],
      "metadata": {
        "id": "lu1aLCCuUURe"
      },
      "execution_count": null,
      "outputs": []
    },
    {
      "cell_type": "code",
      "source": [
        "result = llm_with_tools.invoke(\"Hey how are you!\")\n",
        "result"
      ],
      "metadata": {
        "id": "_msCn01UUy9F"
      },
      "execution_count": null,
      "outputs": []
    },
    {
      "cell_type": "code",
      "source": [
        "from langchain.tools import Tool\n",
        "\n",
        "# Example tool for addition\n",
        "def add_numbers(a, b):\n",
        "    return a + b\n",
        "\n",
        "math_tool = Tool(\n",
        "    name=\"AdditionTool\",\n",
        "    func=lambda x: f\"The result is: {add_numbers(*map(int, x.split()))}\",\n",
        "    description=\"Adds two numbers. Input should be two integers separated by a space.\"\n",
        ")\n"
      ],
      "metadata": {
        "id": "4MPFuC3BXpDg"
      },
      "execution_count": null,
      "outputs": []
    },
    {
      "cell_type": "code",
      "source": [
        "from langchain.agents import initialize_agent, AgentType\n",
        "\n",
        "# List of tools\n",
        "tools = [math_tool]\n",
        "\n",
        "# Initialize the agent\n",
        "agent = initialize_agent(\n",
        "    tools=tools,                        # Provide the tools\n",
        "    llm=llm,                            # LLM for fallback\n",
        "    agent=AgentType.ZERO_SHOT_REACT_DESCRIPTION,  # Agent type\n",
        "    verbose=True                        # Enable debugging output\n",
        ")"
      ],
      "metadata": {
        "id": "d26oDcN3YOVN"
      },
      "execution_count": null,
      "outputs": []
    },
    {
      "cell_type": "code",
      "source": [
        "# Query the agent\n",
        "response1 = agent.run(\"What is 10 OR 20?\")  # Uses the tool\n",
        "\n"
      ],
      "metadata": {
        "id": "tFA9Ik4EcvdJ"
      },
      "execution_count": null,
      "outputs": []
    },
    {
      "cell_type": "code",
      "source": [
        "response1"
      ],
      "metadata": {
        "id": "wOpBVFaWdkpa"
      },
      "execution_count": null,
      "outputs": []
    }
  ]
}